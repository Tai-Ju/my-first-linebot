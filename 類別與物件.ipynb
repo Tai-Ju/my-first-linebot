{
 "cells": [
  {
   "cell_type": "code",
   "execution_count": 12,
   "metadata": {},
   "outputs": [
    {
     "name": "stdout",
     "output_type": "stream",
     "text": [
      "有一個User物件被產生了!\n",
      "有一個User物件被產生了!\n",
      "a: Andy 35 20\n",
      "b: John 25 1\n"
     ]
    }
   ],
   "source": [
    "# 物件導向 程式設計\n",
    "#用物件來表達 多欄位資料\n",
    "\n",
    "# 1.類別(clas)  : 創造物件的模板 / 藍圖 必須要先有類別才有物件\n",
    "#                 類別就是用來產生物件\n",
    "# 2.物件(object) : 1.可以有一個以上欄位(屬性,attribute) 以及方法(function)\n",
    "#                  2. 物件必須要透過類別(class)產生\n",
    "\n",
    "#　設計一個名為 User 的類別\n",
    "class User:\n",
    "    def __init__(self, name, age, level=1):\n",
    "        # 初始函數:會在類別產生物件時自動被觸發\n",
    "        # self 代表類別產生的物件\n",
    "        print(\"有一個User物件被產生了!\")\n",
    "        self.name = name\n",
    "        self.age = age\n",
    "        self.level = level\n",
    "\n",
    "\n",
    "# 用User 類別產生物件a\n",
    "a = User(\"Andy\", 35 , 20)\n",
    "b = User(\"John\", 25 )\n",
    "\n",
    "print(\"a:\",a.name ,a.age, a.level)\n",
    "print(\"b:\",b.name ,b.age, b.level)"
   ]
  },
  {
   "cell_type": "code",
   "execution_count": 14,
   "metadata": {},
   "outputs": [
    {
     "name": "stdout",
     "output_type": "stream",
     "text": [
      "有一個User物件被產生了!\n",
      "有一個User物件被產生了!\n"
     ]
    },
    {
     "ename": "NameError",
     "evalue": "name 'name' is not defined",
     "output_type": "error",
     "traceback": [
      "\u001b[1;31m---------------------------------------------------------------------------\u001b[0m",
      "\u001b[1;31mNameError\u001b[0m                                 Traceback (most recent call last)",
      "Cell \u001b[1;32mIn[14], line 27\u001b[0m\n\u001b[0;32m     24\u001b[0m a \u001b[38;5;241m=\u001b[39m User(\u001b[38;5;124m\"\u001b[39m\u001b[38;5;124mAndy\u001b[39m\u001b[38;5;124m\"\u001b[39m, \u001b[38;5;241m35\u001b[39m , \u001b[38;5;241m20\u001b[39m)\n\u001b[0;32m     25\u001b[0m b \u001b[38;5;241m=\u001b[39m User(\u001b[38;5;124m\"\u001b[39m\u001b[38;5;124mJohn\u001b[39m\u001b[38;5;124m\"\u001b[39m, \u001b[38;5;241m25\u001b[39m )\n\u001b[1;32m---> 27\u001b[0m a\u001b[38;5;241m.\u001b[39mintro()\n\u001b[0;32m     28\u001b[0m b\u001b[38;5;241m.\u001b[39mintro()\n",
      "Cell \u001b[1;32mIn[14], line 20\u001b[0m, in \u001b[0;36mUser.intro\u001b[1;34m(self)\u001b[0m\n\u001b[0;32m     19\u001b[0m \u001b[38;5;28;01mdef\u001b[39;00m \u001b[38;5;21mintro\u001b[39m(\u001b[38;5;28mself\u001b[39m):\n\u001b[1;32m---> 20\u001b[0m     \u001b[38;5;28mprint\u001b[39m(\u001b[38;5;124mf\u001b[39m\u001b[38;5;124m\"\u001b[39m\u001b[38;5;124mhello, 我叫\u001b[39m\u001b[38;5;132;01m{\u001b[39;00mname\u001b[38;5;132;01m}\u001b[39;00m\u001b[38;5;124m\"\u001b[39m)\n",
      "\u001b[1;31mNameError\u001b[0m: name 'name' is not defined"
     ]
    }
   ],
   "source": [
    "# 物件導向 程式設計\n",
    "#用物件來表達 多欄位資料\n",
    "\n",
    "# 1.類別(clas)  : 創造物件的模板 / 藍圖 必須要先有類別才有物件\n",
    "#                 類別就是用來產生物件\n",
    "# 2.物件(object) : 1.可以有一個以上欄位(屬性,attribute) 以及方法(function)\n",
    "#                  2. 物件必須要透過類別(class)產生\n",
    "\n",
    "#　設計一個名為 User 的類別\n",
    "class User:\n",
    "    def __init__(self, name, age, level=1):\n",
    "        # 初始函數:會在類別產生物件時自動被觸發\n",
    "        # self 代表類別產生的物件\n",
    "        print(\"有一個User物件被產生了!\")\n",
    "        self.name = name\n",
    "        self.age = age\n",
    "        self.level = level\n",
    "\n",
    "    def intro(self):\n",
    "        print(f\"hello, 我叫{name}\")\n",
    "\n",
    "\n",
    "# 用User 類別產生物件a\n",
    "a = User(\"Andy\", 35 , 20)\n",
    "b = User(\"John\", 25 )\n",
    "\n",
    "a.intro()\n",
    "b.intro()"
   ]
  },
  {
   "cell_type": "code",
   "execution_count": 15,
   "metadata": {},
   "outputs": [
    {
     "name": "stdout",
     "output_type": "stream",
     "text": [
      "有一個User物件被產生了!\n",
      "有一個User物件被產生了!\n",
      "hello, 我叫Andy 35歲 等級是:20\n",
      "hello, 我叫John 25歲 等級是:1\n"
     ]
    }
   ],
   "source": [
    "# 物件導向 程式設計\n",
    "#用物件來表達 多欄位資料\n",
    "\n",
    "# 1.類別(clas)  : 創造物件的模板 / 藍圖 必須要先有類別才有物件\n",
    "#                 類別就是用來產生物件\n",
    "# 2.物件(object) : 1.可以有一個以上欄位(屬性,attribute) 以及方法(function)\n",
    "#                  2. 物件必須要透過類別(class)產生\n",
    "\n",
    "#　設計一個名為 User 的類別\n",
    "class User:\n",
    "    def __init__(self, name, age, level=1):\n",
    "        # 初始函數:會在類別產生物件時自動被觸發\n",
    "        # self 代表類別產生的物件\n",
    "        print(\"有一個User物件被產生了!\")\n",
    "        self.name = name\n",
    "        self.age = age\n",
    "        self.level = level\n",
    "\n",
    "    def intro(self):\n",
    "        print(f\"hello, 我叫{self.name} {self.age}歲 等級是:{self.level}\")\n",
    "\n",
    "\n",
    "# 用User 類別產生物件a\n",
    "a = User(\"Andy\", 35 , 20)\n",
    "b = User(\"John\", 25 )\n",
    "\n",
    "a.intro()\n",
    "b.intro()"
   ]
  },
  {
   "cell_type": "code",
   "execution_count": 16,
   "metadata": {},
   "outputs": [
    {
     "name": "stdout",
     "output_type": "stream",
     "text": [
      "hello, 我叫Andy 35歲 等級是:20\n",
      "hello, 我叫John 25歲 等級是:1\n"
     ]
    }
   ],
   "source": [
    "# 物件導向 程式設計\n",
    "#用物件來表達 多欄位資料\n",
    "\n",
    "# 1.類別(clas)  : 創造物件的模板 / 藍圖 必須要先有類別才有物件\n",
    "#                 類別就是用來產生物件\n",
    "# 2.物件(object) : 1.可以有一個以上欄位(屬性,attribute) 以及方法(function)\n",
    "#                  2. 物件必須要透過類別(class)產生\n",
    "\n",
    "#　設計一個名為 User 的類別\n",
    "class User:\n",
    "    def __init__(self, name, age, level=1):\n",
    "        # 初始函數:會在類別產生物件時自動被觸發\n",
    "        # self 代表類別產生的物件\n",
    "        #print(\"有一個User物件被產生了!\")\n",
    "        self.name = name\n",
    "        self.age = age\n",
    "        self.level = level\n",
    "        self.intro()\n",
    "\n",
    "    def intro(self):\n",
    "        print(f\"hello, 我叫{self.name} {self.age}歲 等級是:{self.level}\")\n",
    "\n",
    "\n",
    "# 用User 類別產生物件a\n",
    "a = User(\"Andy\", 35 , 20)\n",
    "b = User(\"John\", 25 )\n",
    "\n"
   ]
  },
  {
   "cell_type": "code",
   "execution_count": 1,
   "metadata": {},
   "outputs": [
    {
     "name": "stdout",
     "output_type": "stream",
     "text": [
      "Requirement already satisfied: python-dotenv in c:\\users\\lk117\\anaconda3\\lib\\site-packages (0.21.0)\n"
     ]
    }
   ],
   "source": [
    "!pip install python-dotenv"
   ]
  },
  {
   "cell_type": "code",
   "execution_count": null,
   "metadata": {},
   "outputs": [],
   "source": []
  }
 ],
 "metadata": {
  "kernelspec": {
   "display_name": "base",
   "language": "python",
   "name": "python3"
  },
  "language_info": {
   "codemirror_mode": {
    "name": "ipython",
    "version": 3
   },
   "file_extension": ".py",
   "mimetype": "text/x-python",
   "name": "python",
   "nbconvert_exporter": "python",
   "pygments_lexer": "ipython3",
   "version": "3.12.7"
  }
 },
 "nbformat": 4,
 "nbformat_minor": 2
}
